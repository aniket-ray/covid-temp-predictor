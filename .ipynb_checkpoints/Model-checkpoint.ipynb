{
 "cells": [
  {
   "cell_type": "code",
   "execution_count": 1,
   "metadata": {},
   "outputs": [],
   "source": [
    "import matplotlib.pyplot as plt\n",
    "import numpy as np\n",
    "import pandas as pd\n",
    "from sklearn.model_selection import train_test_split"
   ]
  },
  {
   "cell_type": "code",
   "execution_count": 2,
   "metadata": {},
   "outputs": [
    {
     "data": {
      "text/html": [
       "<div>\n",
       "<style scoped>\n",
       "    .dataframe tbody tr th:only-of-type {\n",
       "        vertical-align: middle;\n",
       "    }\n",
       "\n",
       "    .dataframe tbody tr th {\n",
       "        vertical-align: top;\n",
       "    }\n",
       "\n",
       "    .dataframe thead th {\n",
       "        text-align: right;\n",
       "    }\n",
       "</style>\n",
       "<table border=\"1\" class=\"dataframe\">\n",
       "  <thead>\n",
       "    <tr style=\"text-align: right;\">\n",
       "      <th></th>\n",
       "      <th>Forehead</th>\n",
       "      <th>InnerEyeCorner</th>\n",
       "      <th>OuterEyeCorner</th>\n",
       "      <th>NoseTip</th>\n",
       "      <th>MouthCorner</th>\n",
       "      <th>Cheek</th>\n",
       "      <th>Ear</th>\n",
       "      <th>CoreTemp</th>\n",
       "    </tr>\n",
       "  </thead>\n",
       "  <tbody>\n",
       "    <tr>\n",
       "      <th>0</th>\n",
       "      <td>99.52</td>\n",
       "      <td>99.32</td>\n",
       "      <td>97.24</td>\n",
       "      <td>95.96</td>\n",
       "      <td>98.54</td>\n",
       "      <td>96.14</td>\n",
       "      <td>98.95</td>\n",
       "      <td>98.70</td>\n",
       "    </tr>\n",
       "    <tr>\n",
       "      <th>1</th>\n",
       "      <td>98.03</td>\n",
       "      <td>98.88</td>\n",
       "      <td>97.92</td>\n",
       "      <td>96.43</td>\n",
       "      <td>99.14</td>\n",
       "      <td>96.45</td>\n",
       "      <td>98.68</td>\n",
       "      <td>98.32</td>\n",
       "    </tr>\n",
       "    <tr>\n",
       "      <th>2</th>\n",
       "      <td>97.79</td>\n",
       "      <td>99.21</td>\n",
       "      <td>97.28</td>\n",
       "      <td>95.43</td>\n",
       "      <td>97.29</td>\n",
       "      <td>97.74</td>\n",
       "      <td>97.96</td>\n",
       "      <td>98.49</td>\n",
       "    </tr>\n",
       "    <tr>\n",
       "      <th>3</th>\n",
       "      <td>97.98</td>\n",
       "      <td>98.10</td>\n",
       "      <td>97.30</td>\n",
       "      <td>95.61</td>\n",
       "      <td>98.68</td>\n",
       "      <td>97.85</td>\n",
       "      <td>98.38</td>\n",
       "      <td>99.38</td>\n",
       "    </tr>\n",
       "    <tr>\n",
       "      <th>4</th>\n",
       "      <td>98.10</td>\n",
       "      <td>98.90</td>\n",
       "      <td>97.54</td>\n",
       "      <td>96.25</td>\n",
       "      <td>98.22</td>\n",
       "      <td>97.22</td>\n",
       "      <td>97.96</td>\n",
       "      <td>98.89</td>\n",
       "    </tr>\n",
       "  </tbody>\n",
       "</table>\n",
       "</div>"
      ],
      "text/plain": [
       "   Forehead  InnerEyeCorner   OuterEyeCorner   NoseTip   MouthCorner   Cheek  \\\n",
       "0     99.52            99.32            97.24     95.96         98.54  96.14   \n",
       "1     98.03            98.88            97.92     96.43         99.14  96.45   \n",
       "2     97.79            99.21            97.28     95.43         97.29  97.74   \n",
       "3     97.98            98.10            97.30     95.61         98.68  97.85   \n",
       "4     98.10            98.90            97.54     96.25         98.22  97.22   \n",
       "\n",
       "     Ear  CoreTemp  \n",
       "0  98.95     98.70  \n",
       "1  98.68     98.32  \n",
       "2  97.96     98.49  \n",
       "3  98.38     99.38  \n",
       "4  97.96     98.89  "
      ]
     },
     "execution_count": 2,
     "metadata": {},
     "output_type": "execute_result"
    }
   ],
   "source": [
    "df = pd.read_csv('./data/synthetic-data.csv')\n",
    "df.head()"
   ]
  },
  {
   "cell_type": "code",
   "execution_count": 89,
   "metadata": {},
   "outputs": [
    {
     "name": "stdout",
     "output_type": "stream",
     "text": [
      "(1300, 8)\n",
      "(1300, 7) (1300,)\n",
      "[98.1  98.9  97.54 96.25 98.22 97.22 97.96]\n"
     ]
    }
   ],
   "source": [
    "data = df.values\n",
    "print(data.shape)\n",
    "X, y = data[:, :-1], data[:, -1]\n",
    "print(X.shape, y.shape)\n",
    "print(X[4])"
   ]
  },
  {
   "cell_type": "code",
   "execution_count": 4,
   "metadata": {},
   "outputs": [],
   "source": [
    "X_train, X_test, y_train, y_test = train_test_split(X, y, test_size=0.25, random_state=1)"
   ]
  },
  {
   "cell_type": "code",
   "execution_count": 5,
   "metadata": {},
   "outputs": [
    {
     "name": "stdout",
     "output_type": "stream",
     "text": [
      "Training (975, 7) (975,)\n",
      "Testing (325, 7) (325,)\n"
     ]
    }
   ],
   "source": [
    "print('Training',X_train.shape, y_train.shape)\n",
    "print('Testing', X_test.shape, y_test.shape)"
   ]
  },
  {
   "cell_type": "markdown",
   "metadata": {},
   "source": [
    "## Feed-forward Neural Network"
   ]
  },
  {
   "cell_type": "code",
   "execution_count": 6,
   "metadata": {},
   "outputs": [],
   "source": [
    "import tensorflow as tf"
   ]
  },
  {
   "cell_type": "markdown",
   "metadata": {},
   "source": [
    "### Data Loading and Pre-processing"
   ]
  },
  {
   "cell_type": "code",
   "execution_count": 50,
   "metadata": {},
   "outputs": [],
   "source": [
    "verbose, epochs, batch_size = 1, 100, 64\n",
    "X_model_train = X_train\n",
    "X_model_test = X_test"
   ]
  },
  {
   "cell_type": "markdown",
   "metadata": {},
   "source": [
    "### Building the Model"
   ]
  },
  {
   "cell_type": "code",
   "execution_count": 75,
   "metadata": {},
   "outputs": [],
   "source": [
    "model = tf.keras.models.Sequential()\n",
    "model.add(tf.keras.layers.Dense(7, input_shape=(7,) ))\n",
    "model.add(tf.keras.layers.Dense(7, activation = 'relu'))\n",
    "model.add(tf.keras.layers.Dense(1, activation = 'linear'))\n",
    "model.compile(optimizer= 'adam',loss='mse', metrics =['mape'])\n"
   ]
  },
  {
   "cell_type": "markdown",
   "metadata": {},
   "source": [
    "### Training the Model"
   ]
  },
  {
   "cell_type": "code",
   "execution_count": 85,
   "metadata": {},
   "outputs": [
    {
     "name": "stdout",
     "output_type": "stream",
     "text": [
      "Epoch 1/100\n",
      "16/16 [==============================] - 0s 847us/step - loss: 0.2579 - mape: 0.4125\n",
      "Epoch 2/100\n",
      "16/16 [==============================] - 0s 1ms/step - loss: 0.2443 - mape: 0.4030\n",
      "Epoch 3/100\n",
      "16/16 [==============================] - 0s 1ms/step - loss: 0.2464 - mape: 0.4037\n",
      "Epoch 4/100\n",
      "16/16 [==============================] - 0s 978us/step - loss: 0.2626 - mape: 0.4205\n",
      "Epoch 5/100\n",
      "16/16 [==============================] - 0s 936us/step - loss: 0.2486 - mape: 0.4057\n",
      "Epoch 6/100\n",
      "16/16 [==============================] - 0s 929us/step - loss: 0.2458 - mape: 0.4038\n",
      "Epoch 7/100\n",
      "16/16 [==============================] - 0s 1ms/step - loss: 0.2560 - mape: 0.4114\n",
      "Epoch 8/100\n",
      "16/16 [==============================] - 0s 1ms/step - loss: 0.2471 - mape: 0.4025\n",
      "Epoch 9/100\n",
      "16/16 [==============================] - 0s 1ms/step - loss: 0.2517 - mape: 0.4070\n",
      "Epoch 10/100\n",
      "16/16 [==============================] - 0s 891us/step - loss: 0.2508 - mape: 0.4094\n",
      "Epoch 11/100\n",
      "16/16 [==============================] - 0s 1ms/step - loss: 0.2501 - mape: 0.4064\n",
      "Epoch 12/100\n",
      "16/16 [==============================] - 0s 1ms/step - loss: 0.2468 - mape: 0.4054\n",
      "Epoch 13/100\n",
      "16/16 [==============================] - 0s 897us/step - loss: 0.2445 - mape: 0.4033\n",
      "Epoch 14/100\n",
      "16/16 [==============================] - 0s 1ms/step - loss: 0.2519 - mape: 0.4088\n",
      "Epoch 15/100\n",
      "16/16 [==============================] - 0s 812us/step - loss: 0.2601 - mape: 0.4166\n",
      "Epoch 16/100\n",
      "16/16 [==============================] - 0s 971us/step - loss: 0.2445 - mape: 0.4025\n",
      "Epoch 17/100\n",
      "16/16 [==============================] - 0s 1ms/step - loss: 0.2476 - mape: 0.4028\n",
      "Epoch 18/100\n",
      "16/16 [==============================] - 0s 819us/step - loss: 0.2474 - mape: 0.4048\n",
      "Epoch 19/100\n",
      "16/16 [==============================] - 0s 783us/step - loss: 0.2495 - mape: 0.4028\n",
      "Epoch 20/100\n",
      "16/16 [==============================] - 0s 730us/step - loss: 0.2536 - mape: 0.4103\n",
      "Epoch 21/100\n",
      "16/16 [==============================] - 0s 689us/step - loss: 0.2505 - mape: 0.4079\n",
      "Epoch 22/100\n",
      "16/16 [==============================] - 0s 651us/step - loss: 0.2497 - mape: 0.4070\n",
      "Epoch 23/100\n",
      "16/16 [==============================] - 0s 611us/step - loss: 0.2470 - mape: 0.4057\n",
      "Epoch 24/100\n",
      "16/16 [==============================] - 0s 692us/step - loss: 0.2458 - mape: 0.4037\n",
      "Epoch 25/100\n",
      "16/16 [==============================] - 0s 740us/step - loss: 0.2440 - mape: 0.4020\n",
      "Epoch 26/100\n",
      "16/16 [==============================] - 0s 652us/step - loss: 0.2423 - mape: 0.4011\n",
      "Epoch 27/100\n",
      "16/16 [==============================] - 0s 598us/step - loss: 0.2500 - mape: 0.4075\n",
      "Epoch 28/100\n",
      "16/16 [==============================] - 0s 707us/step - loss: 0.2454 - mape: 0.4016\n",
      "Epoch 29/100\n",
      "16/16 [==============================] - 0s 738us/step - loss: 0.2499 - mape: 0.4065\n",
      "Epoch 30/100\n",
      "16/16 [==============================] - 0s 702us/step - loss: 0.2598 - mape: 0.4154\n",
      "Epoch 31/100\n",
      "16/16 [==============================] - 0s 685us/step - loss: 0.2683 - mape: 0.4240\n",
      "Epoch 32/100\n",
      "16/16 [==============================] - 0s 657us/step - loss: 0.2990 - mape: 0.4485\n",
      "Epoch 33/100\n",
      "16/16 [==============================] - 0s 703us/step - loss: 0.2596 - mape: 0.4140\n",
      "Epoch 34/100\n",
      "16/16 [==============================] - 0s 709us/step - loss: 0.2471 - mape: 0.4050\n",
      "Epoch 35/100\n",
      "16/16 [==============================] - 0s 801us/step - loss: 0.2428 - mape: 0.4012\n",
      "Epoch 36/100\n",
      "16/16 [==============================] - 0s 921us/step - loss: 0.2456 - mape: 0.4029\n",
      "Epoch 37/100\n",
      "16/16 [==============================] - 0s 754us/step - loss: 0.2578 - mape: 0.4167\n",
      "Epoch 38/100\n",
      "16/16 [==============================] - 0s 827us/step - loss: 0.2800 - mape: 0.4304\n",
      "Epoch 39/100\n",
      "16/16 [==============================] - 0s 762us/step - loss: 0.2474 - mape: 0.4050\n",
      "Epoch 40/100\n",
      "16/16 [==============================] - 0s 721us/step - loss: 0.2568 - mape: 0.4166\n",
      "Epoch 41/100\n",
      "16/16 [==============================] - 0s 701us/step - loss: 0.2515 - mape: 0.4074\n",
      "Epoch 42/100\n",
      "16/16 [==============================] - 0s 728us/step - loss: 0.2702 - mape: 0.4255\n",
      "Epoch 43/100\n",
      "16/16 [==============================] - 0s 757us/step - loss: 0.2651 - mape: 0.4177\n",
      "Epoch 44/100\n",
      "16/16 [==============================] - 0s 697us/step - loss: 0.2650 - mape: 0.4140\n",
      "Epoch 45/100\n",
      "16/16 [==============================] - 0s 768us/step - loss: 0.2586 - mape: 0.4116\n",
      "Epoch 46/100\n",
      "16/16 [==============================] - 0s 788us/step - loss: 0.2489 - mape: 0.4057\n",
      "Epoch 47/100\n",
      "16/16 [==============================] - 0s 823us/step - loss: 0.2742 - mape: 0.4283\n",
      "Epoch 48/100\n",
      "16/16 [==============================] - 0s 793us/step - loss: 0.2423 - mape: 0.4017\n",
      "Epoch 49/100\n",
      "16/16 [==============================] - 0s 627us/step - loss: 0.2448 - mape: 0.4019\n",
      "Epoch 50/100\n",
      "16/16 [==============================] - 0s 680us/step - loss: 0.2571 - mape: 0.4121\n",
      "Epoch 51/100\n",
      "16/16 [==============================] - 0s 695us/step - loss: 0.2432 - mape: 0.4009\n",
      "Epoch 52/100\n",
      "16/16 [==============================] - 0s 798us/step - loss: 0.2431 - mape: 0.4003\n",
      "Epoch 53/100\n",
      "16/16 [==============================] - 0s 783us/step - loss: 0.2471 - mape: 0.4058\n",
      "Epoch 54/100\n",
      "16/16 [==============================] - 0s 627us/step - loss: 0.2523 - mape: 0.4073\n",
      "Epoch 55/100\n",
      "16/16 [==============================] - 0s 761us/step - loss: 0.2512 - mape: 0.4083\n",
      "Epoch 56/100\n",
      "16/16 [==============================] - 0s 622us/step - loss: 0.2422 - mape: 0.4000\n",
      "Epoch 57/100\n",
      "16/16 [==============================] - 0s 581us/step - loss: 0.2626 - mape: 0.4168\n",
      "Epoch 58/100\n",
      "16/16 [==============================] - 0s 649us/step - loss: 0.2480 - mape: 0.4074\n",
      "Epoch 59/100\n",
      "16/16 [==============================] - 0s 612us/step - loss: 0.2531 - mape: 0.4109\n",
      "Epoch 60/100\n",
      "16/16 [==============================] - 0s 583us/step - loss: 0.2432 - mape: 0.4008\n",
      "Epoch 61/100\n",
      "16/16 [==============================] - 0s 587us/step - loss: 0.2477 - mape: 0.4061\n",
      "Epoch 62/100\n",
      "16/16 [==============================] - 0s 844us/step - loss: 0.2432 - mape: 0.3996\n",
      "Epoch 63/100\n",
      "16/16 [==============================] - 0s 1ms/step - loss: 0.2503 - mape: 0.4073\n",
      "Epoch 64/100\n",
      "16/16 [==============================] - 0s 975us/step - loss: 0.2555 - mape: 0.4109\n",
      "Epoch 65/100\n",
      "16/16 [==============================] - 0s 641us/step - loss: 0.2573 - mape: 0.4127\n",
      "Epoch 66/100\n",
      "16/16 [==============================] - 0s 611us/step - loss: 0.2463 - mape: 0.4013\n",
      "Epoch 67/100\n",
      "16/16 [==============================] - 0s 642us/step - loss: 0.2438 - mape: 0.4019\n",
      "Epoch 68/100\n",
      "16/16 [==============================] - 0s 661us/step - loss: 0.2620 - mape: 0.4196\n",
      "Epoch 69/100\n",
      "16/16 [==============================] - 0s 684us/step - loss: 0.2573 - mape: 0.4110\n",
      "Epoch 70/100\n",
      "16/16 [==============================] - 0s 646us/step - loss: 0.2540 - mape: 0.4091\n",
      "Epoch 71/100\n",
      "16/16 [==============================] - 0s 631us/step - loss: 0.2509 - mape: 0.4081\n",
      "Epoch 72/100\n",
      "16/16 [==============================] - 0s 681us/step - loss: 0.2466 - mape: 0.4041\n",
      "Epoch 73/100\n",
      "16/16 [==============================] - 0s 614us/step - loss: 0.2417 - mape: 0.3991\n",
      "Epoch 74/100\n",
      "16/16 [==============================] - 0s 687us/step - loss: 0.2381 - mape: 0.3984\n",
      "Epoch 75/100\n",
      "16/16 [==============================] - 0s 655us/step - loss: 0.2401 - mape: 0.3999\n",
      "Epoch 76/100\n",
      "16/16 [==============================] - 0s 661us/step - loss: 0.2534 - mape: 0.4074\n",
      "Epoch 77/100\n",
      "16/16 [==============================] - 0s 617us/step - loss: 0.2367 - mape: 0.3965\n",
      "Epoch 78/100\n",
      "16/16 [==============================] - 0s 653us/step - loss: 0.2456 - mape: 0.4040\n",
      "Epoch 79/100\n",
      "16/16 [==============================] - 0s 722us/step - loss: 0.2496 - mape: 0.4068\n",
      "Epoch 80/100\n",
      "16/16 [==============================] - 0s 614us/step - loss: 0.2684 - mape: 0.4260\n",
      "Epoch 81/100\n",
      "16/16 [==============================] - 0s 596us/step - loss: 0.2477 - mape: 0.4061\n",
      "Epoch 82/100\n",
      "16/16 [==============================] - 0s 581us/step - loss: 0.2434 - mape: 0.3997\n",
      "Epoch 83/100\n",
      "16/16 [==============================] - 0s 579us/step - loss: 0.2459 - mape: 0.4018\n",
      "Epoch 84/100\n"
     ]
    },
    {
     "name": "stdout",
     "output_type": "stream",
     "text": [
      "16/16 [==============================] - 0s 621us/step - loss: 0.2546 - mape: 0.4103\n",
      "Epoch 85/100\n",
      "16/16 [==============================] - 0s 576us/step - loss: 0.2793 - mape: 0.4333\n",
      "Epoch 86/100\n",
      "16/16 [==============================] - 0s 599us/step - loss: 0.2408 - mape: 0.3976\n",
      "Epoch 87/100\n",
      "16/16 [==============================] - 0s 519us/step - loss: 0.2654 - mape: 0.4200\n",
      "Epoch 88/100\n",
      "16/16 [==============================] - 0s 672us/step - loss: 0.2424 - mape: 0.3986\n",
      "Epoch 89/100\n",
      "16/16 [==============================] - 0s 558us/step - loss: 0.2417 - mape: 0.4032\n",
      "Epoch 90/100\n",
      "16/16 [==============================] - 0s 530us/step - loss: 0.2511 - mape: 0.4075\n",
      "Epoch 91/100\n",
      "16/16 [==============================] - 0s 574us/step - loss: 0.2367 - mape: 0.3956\n",
      "Epoch 92/100\n",
      "16/16 [==============================] - 0s 544us/step - loss: 0.2485 - mape: 0.4072\n",
      "Epoch 93/100\n",
      "16/16 [==============================] - 0s 534us/step - loss: 0.2574 - mape: 0.4156\n",
      "Epoch 94/100\n",
      "16/16 [==============================] - 0s 587us/step - loss: 0.2492 - mape: 0.4082\n",
      "Epoch 95/100\n",
      "16/16 [==============================] - 0s 575us/step - loss: 0.2378 - mape: 0.3962\n",
      "Epoch 96/100\n",
      "16/16 [==============================] - 0s 539us/step - loss: 0.2423 - mape: 0.4015\n",
      "Epoch 97/100\n",
      "16/16 [==============================] - 0s 587us/step - loss: 0.2359 - mape: 0.3944\n",
      "Epoch 98/100\n",
      "16/16 [==============================] - 0s 669us/step - loss: 0.2370 - mape: 0.3955\n",
      "Epoch 99/100\n",
      "16/16 [==============================] - 0s 537us/step - loss: 0.2389 - mape: 0.3983\n",
      "Epoch 100/100\n",
      "16/16 [==============================] - 0s 586us/step - loss: 0.2571 - mape: 0.4161\n"
     ]
    },
    {
     "data": {
      "text/plain": [
       "<tensorflow.python.keras.callbacks.History at 0x7fcb22e40550>"
      ]
     },
     "execution_count": 85,
     "metadata": {},
     "output_type": "execute_result"
    }
   ],
   "source": [
    "model.fit(X_model_train, y_train, verbose=verbose, epochs=epochs, batch_size=batch_size)"
   ]
  },
  {
   "cell_type": "code",
   "execution_count": 86,
   "metadata": {},
   "outputs": [
    {
     "name": "stdout",
     "output_type": "stream",
     "text": [
      "11/11 [==============================] - 0s 660us/step - loss: 0.1954 - mape: 0.3513\n"
     ]
    },
    {
     "data": {
      "text/plain": [
       "[0.19542820751667023, 0.3512817323207855]"
      ]
     },
     "execution_count": 86,
     "metadata": {},
     "output_type": "execute_result"
    }
   ],
   "source": [
    "score=model.evaluate(X_model_test, y_test, verbose=1)\n",
    "score"
   ]
  },
  {
   "cell_type": "code",
   "execution_count": 90,
   "metadata": {},
   "outputs": [
    {
     "data": {
      "text/plain": [
       "99.08"
      ]
     },
     "execution_count": 90,
     "metadata": {},
     "output_type": "execute_result"
    }
   ],
   "source": [
    "round(model.predict([[98.1 , 98.9,  97.54, 96.25, 98.22, 97.22, 97.96]])[0][0],2)"
   ]
  },
  {
   "cell_type": "markdown",
   "metadata": {},
   "source": [
    "# Random Forest"
   ]
  },
  {
   "cell_type": "code",
   "execution_count": 91,
   "metadata": {},
   "outputs": [],
   "source": [
    "from sklearn.ensemble import RandomForestRegressor"
   ]
  },
  {
   "cell_type": "markdown",
   "metadata": {},
   "source": [
    "### Building the Model"
   ]
  },
  {
   "cell_type": "code",
   "execution_count": 123,
   "metadata": {},
   "outputs": [
    {
     "data": {
      "text/plain": [
       "RandomForestRegressor(n_estimators=500, random_state=42)"
      ]
     },
     "execution_count": 123,
     "metadata": {},
     "output_type": "execute_result"
    }
   ],
   "source": [
    "rf = RandomForestRegressor(n_estimators = 500, random_state = 42)\n",
    "rf.fit(X_model_train, y_train)"
   ]
  },
  {
   "cell_type": "code",
   "execution_count": 124,
   "metadata": {},
   "outputs": [
    {
     "name": "stdout",
     "output_type": "stream",
     "text": [
      "Mean Absolute Error: 0.2 degrees.\n"
     ]
    }
   ],
   "source": [
    "predictions = rf.predict(X_model_test)\n",
    "errors = abs(predictions - y_test)\n",
    "print('Mean Absolute Error:', round(np.mean(errors), 2), 'degrees.')"
   ]
  },
  {
   "cell_type": "code",
   "execution_count": 125,
   "metadata": {},
   "outputs": [
    {
     "name": "stdout",
     "output_type": "stream",
     "text": [
      "Accuracy: 99.79 %.\n"
     ]
    }
   ],
   "source": [
    "mape = 100 * (errors / y_test)\n",
    "# Calculate and display accuracy\n",
    "accuracy = 100 - np.mean(mape)\n",
    "print('Accuracy:', round(accuracy, 2), '%.')"
   ]
  },
  {
   "cell_type": "code",
   "execution_count": 126,
   "metadata": {},
   "outputs": [
    {
     "name": "stdout",
     "output_type": "stream",
     "text": [
      "98.84\n"
     ]
    }
   ],
   "source": [
    "custom_predictions = rf.predict([[98.1 , 98.9,  97.54, 96.25, 98.22, 97.22, 97.96]])[0]\n",
    "print(round(custom_predictions, 2))"
   ]
  },
  {
   "cell_type": "code",
   "execution_count": null,
   "metadata": {},
   "outputs": [],
   "source": []
  }
 ],
 "metadata": {
  "kernelspec": {
   "display_name": "Python 3",
   "language": "python",
   "name": "python3"
  },
  "language_info": {
   "codemirror_mode": {
    "name": "ipython",
    "version": 3
   },
   "file_extension": ".py",
   "mimetype": "text/x-python",
   "name": "python",
   "nbconvert_exporter": "python",
   "pygments_lexer": "ipython3",
   "version": "3.8.3"
  }
 },
 "nbformat": 4,
 "nbformat_minor": 4
}
